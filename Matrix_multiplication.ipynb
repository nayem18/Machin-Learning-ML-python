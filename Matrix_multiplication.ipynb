{
  "nbformat": 4,
  "nbformat_minor": 0,
  "metadata": {
    "colab": {
      "provenance": [],
      "authorship_tag": "ABX9TyPk9x+m+o6sbH0uhPtZfjqr",
      "include_colab_link": true
    },
    "kernelspec": {
      "name": "python3",
      "display_name": "Python 3"
    },
    "language_info": {
      "name": "python"
    }
  },
  "cells": [
    {
      "cell_type": "markdown",
      "metadata": {
        "id": "view-in-github",
        "colab_type": "text"
      },
      "source": [
        "<a href=\"https://colab.research.google.com/github/nayem18/Machin-Learning-ML-python/blob/main/Matrix_multiplication.ipynb\" target=\"_parent\"><img src=\"https://colab.research.google.com/assets/colab-badge.svg\" alt=\"Open In Colab\"/></a>"
      ]
    },
    {
      "cell_type": "code",
      "execution_count": null,
      "metadata": {
        "colab": {
          "base_uri": "https://localhost:8080/"
        },
        "id": "JSxfDm8vQj0E",
        "outputId": "ec402e7a-1b39-4598-948b-8f0fb567382c"
      },
      "outputs": [
        {
          "output_type": "stream",
          "name": "stdout",
          "text": [
            "[[3 2]\n",
            " [7 4]]\n",
            "[[3 7 2]\n",
            " [9 4 7]]\n",
            "[[27 29 20]\n",
            " [57 65 42]]\n",
            "(2, 3)\n"
          ]
        }
      ],
      "source": [
        "import numpy as np\n",
        "\n",
        "A = np.array([[3, 2], [7, 4]])\n",
        "B = np.array([[3, 7, 2], [9, 4, 7]])\n",
        "AB = np.matmul(A, B)\n",
        "print(A)\n",
        "print(B)\n",
        "print(AB)\n",
        "print(AB.shape)"
      ]
    }
  ]
}